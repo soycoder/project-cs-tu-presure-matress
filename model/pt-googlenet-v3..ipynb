{
 "cells": [
  {
   "cell_type": "markdown",
   "metadata": {},
   "source": [
    "Ref: https://pytorch.org/hub/pytorch_vision_inception_v3/\n",
    "\n",
    "- Example\n",
    "https://medium.com/analytics-vidhya/image-classification-using-cnn-in-pytorch-65b1968d9e1f\n",
    "\n",
    "- Car\n",
    "https://towardsdatascience.com/car-classification-using-inception-v3-71b63e9825b7"
   ]
  },
  {
   "cell_type": "markdown",
   "metadata": {},
   "source": [
    "## Install Prerequisites\n",
    "- "
   ]
  },
  {
   "cell_type": "code",
   "execution_count": null,
   "metadata": {},
   "outputs": [],
   "source": []
  },
  {
   "cell_type": "markdown",
   "metadata": {},
   "source": [
    "## Install Prerequisites"
   ]
  }
 ],
 "metadata": {
  "language_info": {
   "name": "python"
  },
  "orig_nbformat": 4
 },
 "nbformat": 4,
 "nbformat_minor": 2
}
